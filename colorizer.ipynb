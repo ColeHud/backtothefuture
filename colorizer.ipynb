{
  "nbformat": 4,
  "nbformat_minor": 0,
  "metadata": {
    "colab": {
      "name": "colorizer.ipynb",
      "provenance": [],
      "collapsed_sections": [],
      "toc_visible": true
    },
    "kernelspec": {
      "name": "python3",
      "display_name": "Python 3"
    },
    "language_info": {
      "name": "python"
    },
    "accelerator": "GPU"
  },
  "cells": [
    {
      "cell_type": "markdown",
      "metadata": {
        "id": "TPVhRq67G3FF"
      },
      "source": [
        "**Back to the Future**\n",
        "\n",
        "by Annika Dahlmann, Cameron Davis, Kyle O'Laughlin, and Nathan Tseng"
      ]
    },
    {
      "cell_type": "code",
      "metadata": {
        "id": "ZuwmXm33GnWL",
        "colab": {
          "base_uri": "https://localhost:8080/"
        },
        "outputId": "08a5c872-daa9-4a17-f08c-58875adf8cec"
      },
      "source": [
        "import os\n",
        "import time\n",
        "import cv2\n",
        "import matplotlib.pyplot as plt\n",
        "import numpy as np\n",
        "import torch\n",
        "import torch.nn as nn\n",
        "import torch.optim as optim\n",
        "from PIL import Image\n",
        "import torchvision\n",
        "from sklearn.metrics import average_precision_score as ap_score\n",
        "from torch.utils.data import DataLoader,Subset\n",
        "from torchvision import datasets, models, transforms\n",
        "from torch.utils.data.dataset import Dataset\n",
        "from tqdm import tqdm\n",
        "import h5py\n",
        "from skimage import color\n",
        "from torchsummary import summary\n",
        "import argparse\n",
        "import torch.utils.data as data\n",
        "from skimage.metrics import peak_signal_noise_ratio\n",
        "from skimage.measure import compare_ssim\n",
        "\n",
        "from google.colab import drive\n",
        "drive.mount('/content/drive/')"
      ],
      "execution_count": null,
      "outputs": [
        {
          "output_type": "stream",
          "text": [
            "Mounted at /content/drive/\n"
          ],
          "name": "stdout"
        }
      ]
    },
    {
      "cell_type": "code",
      "metadata": {
        "colab": {
          "base_uri": "https://localhost:8080/"
        },
        "id": "CSbNvLcnWtea",
        "outputId": "8681f2c7-1792-42bb-9ef9-0a0623c9136b"
      },
      "source": [
        "if torch.cuda.is_available():\n",
        "    print(\"Using the GPU. You are good to go!\")\n",
        "    device = torch.device('cuda:0')\n",
        "else:\n",
        "    raise Exception(\"WARNING: Could not find GPU! Using CPU only. \\\n",
        "To enable GPU, please to go Edit > Notebook Settings > Hardware \\\n",
        "Accelerator and select GPU.\")"
      ],
      "execution_count": null,
      "outputs": [
        {
          "output_type": "stream",
          "text": [
            "Using the GPU. You are good to go!\n"
          ],
          "name": "stdout"
        }
      ]
    },
    {
      "cell_type": "code",
      "metadata": {
        "id": "lIUBG9q2auUs"
      },
      "source": [
        "IMG_EXTENSIONS = [\n",
        "    '.jpg', '.JPG', '.jpeg', '.JPEG',\n",
        "    '.png', '.PNG', '.ppm', '.PPM', '.bmp', '.BMP',\n",
        "    '.tif', '.TIF', '.tiff', '.TIFF',\n",
        "]\n",
        "\n",
        "\n",
        "def is_image_file(filename):\n",
        "    return any(filename.endswith(extension) for extension in IMG_EXTENSIONS)\n",
        "\n",
        "\n",
        "def make_dataset(dir, max_dataset_size=float(\"inf\")):\n",
        "    images = []\n",
        "    assert os.path.isdir(dir) or os.path.islink(dir), '%s is not a valid directory' % dir\n",
        "\n",
        "    for root, _, fnames in sorted(os.walk(dir, followlinks=True)):\n",
        "        for fname in fnames:\n",
        "            if is_image_file(fname):\n",
        "                path = os.path.join(root, fname)\n",
        "                images.append(path)\n",
        "    return images[:min(max_dataset_size, len(images))]\n",
        "\n",
        "\n",
        "class ImageFolder(data.Dataset):\n",
        "    def __init__(self, root, transform=None):\n",
        "        imgs = make_dataset(root)\n",
        "        if len(imgs) == 0:\n",
        "            raise(RuntimeError(\"Found 0 images in: \" + root + \"\\n\"\n",
        "                               \"Supported image extensions are: \" + \",\".join(IMG_EXTENSIONS)))\n",
        "        self.root = root\n",
        "        self.imgs = imgs\n",
        "        self.transform = transform\n",
        "        self.bin_hf = h5py.File('/content/drive/MyDrive/EECS442Group/bin_data_64.h5', 'r')\n",
        "        self.L_hf = h5py.File('/content/drive/MyDrive/EECS442Group/L_data.h5', 'r')\n",
        "        self.AB_hf = h5py.File('/content/drive/MyDrive/EECS442Group/AB_data.h5', 'r')\n",
        "\n",
        "    def __getitem__(self, index):\n",
        "        # get the image path\n",
        "        path = self.imgs[index]\n",
        "        #path = \"cocostuff-2017\\\\\" + os.path.basename(os.path.normpath(path))\n",
        "        path = \"celeba\\\\\" + os.path.basename(os.path.normpath(path))\n",
        "\n",
        "        # retrieve the L channel and binned image\n",
        "        L_img = self.L_hf.get(path)\n",
        "        L_img = np.array(L_img)\n",
        "        bin_img = self.bin_hf.get(path)\n",
        "        bin_img = np.array(bin_img)\n",
        "\n",
        "        # apply transforms and return\n",
        "        L_img = self.transform(L_img)\n",
        "        bin_img = self.transform(bin_img)\n",
        "        return L_img, bin_img\n",
        "\n",
        "    def __len__(self):\n",
        "        return len(self.imgs)\n"
      ],
      "execution_count": null,
      "outputs": []
    },
    {
      "cell_type": "markdown",
      "metadata": {
        "id": "6l1HiNHBHN6c"
      },
      "source": [
        "Create our model"
      ]
    },
    {
      "cell_type": "code",
      "metadata": {
        "id": "bGzCeUzrHQv7"
      },
      "source": [
        "# helper function for Zhang et al. 2016 architecture structure - 2 CONV layers\n",
        "def make_block_2conv(layers, in_channels, out_channels):\n",
        "    layers.append(nn.Conv2d(in_channels, out_channels, 3, 1, 1))\n",
        "    layers.append(nn.ReLU(inplace=True))\n",
        "    layers.append(nn.Conv2d(out_channels, out_channels, 3, 2, 1))\n",
        "    layers.append(nn.ReLU(inplace=True))\n",
        "    layers.append(nn.BatchNorm2d(out_channels))\n",
        "\n",
        "# helper function for Zhang et al. 2016 architecture structure - 3 CONV layers\n",
        "def make_block_3conv(layers, in_channels, out_channels, kernel_size=3, stride=1, padding=1, dilation=1):\n",
        "    layers.append(nn.Conv2d(in_channels, out_channels, kernel_size, 1, padding, dilation=dilation))\n",
        "    layers.append(nn.ReLU(inplace=True))\n",
        "    layers.append(nn.Conv2d(out_channels, out_channels, kernel_size, 1, padding, dilation=dilation))\n",
        "    layers.append(nn.ReLU(inplace=True))\n",
        "    layers.append(nn.Conv2d(out_channels, out_channels, kernel_size, stride, padding, dilation=dilation))\n",
        "    layers.append(nn.ReLU(inplace=True))\n",
        "    layers.append(nn.BatchNorm2d(out_channels))\n",
        "\n",
        "class Colorizer(nn.Module):\n",
        "    def __init__(self):\n",
        "        super(Colorizer, self).__init__()\n",
        "\n",
        "        self.layers = []\n",
        "\n",
        "        make_block_2conv(self.layers, 1, 32)\n",
        "        make_block_2conv(self.layers, 32, 64)\n",
        "        make_block_3conv(self.layers, 64, 128, 3, stride=2)\n",
        "        make_block_3conv(self.layers, 128, 256, 3)\n",
        "        make_block_3conv(self.layers, 256, 256, 3, padding=2, dilation=2)\n",
        "        make_block_3conv(self.layers, 256, 256, 3)\n",
        "\n",
        "        self.layers.append(nn.ConvTranspose2d(256, 128, 4, 2, 1))\n",
        "        self.layers.append(nn.ReLU(inplace=True))\n",
        "        self.layers.append(nn.Conv2d(128, 128, kernel_size=3, stride=1, padding=1, bias=True))\n",
        "        self.layers.append(nn.ReLU(inplace=True))\n",
        "        self.layers.append(nn.ConvTranspose2d(128, 128, 4, 2, 1))\n",
        "        self.layers.append(nn.ReLU(inplace=True))\n",
        "        self.layers.append(nn.Conv2d(128, 128, kernel_size=3, stride=1, padding=1, bias=True))\n",
        "        self.layers.append(nn.ReLU(inplace=True))\n",
        "        self.layers.append(nn.ConvTranspose2d(128, 64, 4, 2, 1))\n",
        "        self.layers.append(nn.ReLU(inplace=True))\n",
        "\n",
        "        self.layers.append(nn.Conv2d(64, 313, 1, 1, 0))\n",
        "\n",
        "        self.model = nn.Sequential(*self.layers)\n",
        "\n",
        "    def forward(self, x):\n",
        "        x = self.model(x)\n",
        "\n",
        "        return x"
      ],
      "execution_count": null,
      "outputs": []
    },
    {
      "cell_type": "markdown",
      "metadata": {
        "id": "3p_rX7Qo9iCQ"
      },
      "source": [
        "Data Loader"
      ]
    },
    {
      "cell_type": "code",
      "metadata": {
        "id": "l1lU5AlVUFbF"
      },
      "source": [
        "class Bin_Converter():\n",
        "    def __init__(self):\n",
        "        # https://github.com/richzhang/colorization\n",
        "        self.palette = np.load(\"/content/drive/MyDrive/EECS442Group/richzhang_palette/pts_in_hull.npy\")\n",
        "\n",
        "        # add our own counts and divide to get prior probabilities\n",
        "        prior = np.load(\"/content/drive/MyDrive/EECS442Group/celeb_counts.npy\")\n",
        "        prior[prior == 0] = 1\n",
        "        prior = prior / np.sum(prior)\n",
        "\n",
        "        # self.weights = 0.8 + prior \n",
        "\n",
        "        # Weights were taken from Time0o on github\n",
        "        # https://github.com/Time0o/pytorch-colorful-colorization/tree/9cbbc9fb7518bd92c441e36e45466cfd663fa9db\n",
        "        lambda_ = 0.5\n",
        "        #Apply function for weights\n",
        "        uniform = np.zeros_like(prior)\n",
        "        uniform[prior > 0] = 1 / (prior > 0).sum()\n",
        "\n",
        "        self.weights = 1 / ((1 - lambda_) * prior + lambda_ * uniform)\n",
        "        self.weights /= np.sum(prior * self.weights)\n",
        "\n",
        "    # image is a numpy array CxHxW\n",
        "    def convert_bin(self, image):\n",
        "        # get the l2 difference between binned AB values and bins\n",
        "        bin_image = np.zeros((image.shape[1], image.shape[2]))\n",
        "\n",
        "        for x in range(image.shape[1]):\n",
        "            for y in range(image.shape[2]):\n",
        "                bin_dists = np.linalg.norm(np.abs(self.palette - image[:, x, y]), axis=1)\n",
        "                bin_image[x, y] = np.argmin(bin_dists)\n",
        "\n",
        "        return bin_image\n",
        "\n",
        "    def convert_AB(self, image):\n",
        "        AB_image = np.zeros((2, image.shape[0], image.shape[1]))\n",
        "        for x in range(image.shape[0]):\n",
        "            for y in range(image.shape[1]):\n",
        "                AB_image[0, x, y] = self.palette[image[x, y].astype(np.int64), 0]\n",
        "                AB_image[1, x, y] = self.palette[image[x, y].astype(np.int64), 1]\n",
        "        return AB_image\n",
        "\n",
        "if __name__ == \"__main__\":\n",
        "    \n",
        "    test = Bin_Converter()\n"
      ],
      "execution_count": null,
      "outputs": []
    },
    {
      "cell_type": "code",
      "metadata": {
        "id": "pInGXRCy9jSu",
        "colab": {
          "base_uri": "https://localhost:8080/"
        },
        "outputId": "661d49fc-c86d-459c-f93b-87dbefb6f773"
      },
      "source": [
        "#mount on google drive\n",
        "!ls /content/drive/MyDrive/EECS442Group\n",
        "\n",
        "bin_hf = h5py.File('/content/drive/MyDrive/EECS442Group/bin_data_64.h5', 'r')\n",
        "L_hf = h5py.File('/content/drive/MyDrive/EECS442Group/L_data.h5', 'r')\n",
        "AB_hf = h5py.File('/content/drive/MyDrive/EECS442Group/AB_data.h5', 'r')\n",
        "converter = Bin_Converter()\n",
        "\n",
        "#images = make_dataset(\"/content/drive/MyDrive/EECS442Group/cocostuff-2017\")\n",
        "images = make_dataset(\"/content/drive/MyDrive/EECS442Group/celeba\")\n",
        "\n",
        "# Determine size of dataset\n",
        "counter = 1\n",
        "for image_path in images:\n",
        "    counter += 1\n",
        "print(\"number of images:\", counter)"
      ],
      "execution_count": null,
      "outputs": [
        {
          "output_type": "stream",
          "text": [
            " AB_data.h5\t    colorizer_alternate_dataset.ipynb   L_data.h5\n",
            " AB_flower.h5\t    colorizer_annika.ipynb\t        L_flower.h5\n",
            " bin_data_64.h5     colorizer_flower.ipynb\t        original.jpg\n",
            " bin_flower_64.h5   colorizer_flower_none.ipynb         output_images\n",
            " bin_images\t    colorizer.ipynb\t\t       'Project Proposal.gdoc'\n",
            " celeba\t\t    dataset.py\t\t\t        project_proposal.pdf\n",
            " celeb_counts.npy  'Final Presentation.gslides'        'Project Report.gdoc'\n",
            " checkpoints\t    flower_counts.npy\t\t        richzhang_palette\n",
            " cocostuff-2017     flowers\t\t\t        val_data\n",
            "number of images: 6001\n"
          ],
          "name": "stdout"
        }
      ]
    },
    {
      "cell_type": "markdown",
      "metadata": {
        "id": "ifHucoknBbxw"
      },
      "source": [
        "Checkpoint stuff!"
      ]
    },
    {
      "cell_type": "code",
      "metadata": {
        "colab": {
          "base_uri": "https://localhost:8080/",
          "height": 1000
        },
        "id": "EORNyXsfBdzr",
        "outputId": "0858a71d-c11c-460e-e327-e78349f9222a"
      },
      "source": [
        "# Initialize Model\n",
        "net = Colorizer().to(device)\n",
        "print(\"Model Summary:\")\n",
        "summary(net, (1,64,64))\n",
        "\n",
        "def save_checkpoint(i,net,loss):\n",
        "  EPOCH = i\n",
        "  PATH = \"model\"+str(i)+\".pt\"\n",
        "  LOSS = loss\n",
        "\n",
        "  torch.save({\n",
        "              'epoch': EPOCH,\n",
        "              'model_state_dict': net.state_dict(),\n",
        "              'optimizer_state_dict': optimizer.state_dict(),\n",
        "              'loss': LOSS,\n",
        "              }, PATH)\n",
        "\n",
        "#USE THIS IN THE EVENT OF A CRASH TO RETRIEVE MODEL\n",
        "\"\"\"\n",
        "checkpoint = torch.load(PATH)\n",
        "model.load_state_dict(checkpoint['model_state_dict'])\n",
        "optimizer.load_state_dict(checkpoint['optimizer_state_dict'])\n",
        "epoch = checkpoint['epoch']\n",
        "loss = checkpoint['loss']\n",
        "\"\"\""
      ],
      "execution_count": null,
      "outputs": [
        {
          "output_type": "stream",
          "text": [
            "Model Summary:\n",
            "----------------------------------------------------------------\n",
            "        Layer (type)               Output Shape         Param #\n",
            "================================================================\n",
            "            Conv2d-1           [-1, 32, 64, 64]             320\n",
            "              ReLU-2           [-1, 32, 64, 64]               0\n",
            "            Conv2d-3           [-1, 32, 32, 32]           9,248\n",
            "              ReLU-4           [-1, 32, 32, 32]               0\n",
            "       BatchNorm2d-5           [-1, 32, 32, 32]              64\n",
            "            Conv2d-6           [-1, 64, 32, 32]          18,496\n",
            "              ReLU-7           [-1, 64, 32, 32]               0\n",
            "            Conv2d-8           [-1, 64, 16, 16]          36,928\n",
            "              ReLU-9           [-1, 64, 16, 16]               0\n",
            "      BatchNorm2d-10           [-1, 64, 16, 16]             128\n",
            "           Conv2d-11          [-1, 128, 16, 16]          73,856\n",
            "             ReLU-12          [-1, 128, 16, 16]               0\n",
            "           Conv2d-13          [-1, 128, 16, 16]         147,584\n",
            "             ReLU-14          [-1, 128, 16, 16]               0\n",
            "           Conv2d-15            [-1, 128, 8, 8]         147,584\n",
            "             ReLU-16            [-1, 128, 8, 8]               0\n",
            "      BatchNorm2d-17            [-1, 128, 8, 8]             256\n",
            "           Conv2d-18            [-1, 256, 8, 8]         295,168\n",
            "             ReLU-19            [-1, 256, 8, 8]               0\n",
            "           Conv2d-20            [-1, 256, 8, 8]         590,080\n",
            "             ReLU-21            [-1, 256, 8, 8]               0\n",
            "           Conv2d-22            [-1, 256, 8, 8]         590,080\n",
            "             ReLU-23            [-1, 256, 8, 8]               0\n",
            "      BatchNorm2d-24            [-1, 256, 8, 8]             512\n",
            "           Conv2d-25            [-1, 256, 8, 8]         590,080\n",
            "             ReLU-26            [-1, 256, 8, 8]               0\n",
            "           Conv2d-27            [-1, 256, 8, 8]         590,080\n",
            "             ReLU-28            [-1, 256, 8, 8]               0\n",
            "           Conv2d-29            [-1, 256, 8, 8]         590,080\n",
            "             ReLU-30            [-1, 256, 8, 8]               0\n",
            "      BatchNorm2d-31            [-1, 256, 8, 8]             512\n",
            "           Conv2d-32            [-1, 256, 8, 8]         590,080\n",
            "             ReLU-33            [-1, 256, 8, 8]               0\n",
            "           Conv2d-34            [-1, 256, 8, 8]         590,080\n",
            "             ReLU-35            [-1, 256, 8, 8]               0\n",
            "           Conv2d-36            [-1, 256, 8, 8]         590,080\n",
            "             ReLU-37            [-1, 256, 8, 8]               0\n",
            "      BatchNorm2d-38            [-1, 256, 8, 8]             512\n",
            "  ConvTranspose2d-39          [-1, 128, 16, 16]         524,416\n",
            "             ReLU-40          [-1, 128, 16, 16]               0\n",
            "           Conv2d-41          [-1, 128, 16, 16]         147,584\n",
            "             ReLU-42          [-1, 128, 16, 16]               0\n",
            "  ConvTranspose2d-43          [-1, 128, 32, 32]         262,272\n",
            "             ReLU-44          [-1, 128, 32, 32]               0\n",
            "           Conv2d-45          [-1, 128, 32, 32]         147,584\n",
            "             ReLU-46          [-1, 128, 32, 32]               0\n",
            "  ConvTranspose2d-47           [-1, 64, 64, 64]         131,136\n",
            "             ReLU-48           [-1, 64, 64, 64]               0\n",
            "           Conv2d-49          [-1, 313, 64, 64]          20,345\n",
            "================================================================\n",
            "Total params: 6,685,145\n",
            "Trainable params: 6,685,145\n",
            "Non-trainable params: 0\n",
            "----------------------------------------------------------------\n",
            "Input size (MB): 0.02\n",
            "Forward/backward pass size (MB): 26.72\n",
            "Params size (MB): 25.50\n",
            "Estimated Total Size (MB): 52.24\n",
            "----------------------------------------------------------------\n"
          ],
          "name": "stdout"
        },
        {
          "output_type": "execute_result",
          "data": {
            "application/vnd.google.colaboratory.intrinsic+json": {
              "type": "string"
            },
            "text/plain": [
              "\"\\ncheckpoint = torch.load(PATH)\\nmodel.load_state_dict(checkpoint['model_state_dict'])\\noptimizer.load_state_dict(checkpoint['optimizer_state_dict'])\\nepoch = checkpoint['epoch']\\nloss = checkpoint['loss']\\n\""
            ]
          },
          "metadata": {
            "tags": []
          },
          "execution_count": 10
        }
      ]
    },
    {
      "cell_type": "markdown",
      "metadata": {
        "id": "T7Nt8xaq_S4W"
      },
      "source": [
        "Training"
      ]
    },
    {
      "cell_type": "code",
      "metadata": {
        "id": "bFoHBT_TAtqA"
      },
      "source": [
        "def init_arguments():\n",
        "    parser = {}\n",
        "    parser['data_path'] = \"/content/drive/MyDrive/EECS442Group/celeba\"\n",
        "    parser['image_size'] = 128\n",
        "    parser['num_epochs'] = 100\n",
        "    parser['batch_size'] = 8\n",
        "    parser['lr'] = 2e-4\n",
        "    parser['beta1'] = 0.5\n",
        "    parser['beta2'] =0.999\n",
        "    parser['eps'] = 1e-08\n",
        "    parser['weight_decay'] = 1e-4\n",
        "    parser['print_loss_freq'] = 10\n",
        "    parser['checkpoint_freq'] = 10\n",
        "    parser['experiment_idx'] = \"5\"\n",
        "    return parser\n",
        "\n",
        "\n",
        "def train(model, trainloader, valloader, num_epoch, optimizer, criterion, args, device): # Train the model\n",
        "    print(\"Start training...\")\n",
        "    trn_loss_hist = []\n",
        "    val_loss_hist = []\n",
        "    # EXPERIMENTAL\n",
        "    mse_crit = nn.MSELoss()\n",
        "    # https://github.com/richzhang/colorization\n",
        "    priors = torch.tensor(np.load(\"/content/drive/MyDrive/EECS442Group/richzhang_palette/prior_probs.npy\")).to(device)\n",
        "\n",
        "    for i in range(num_epoch):\n",
        "        model.train()\n",
        "        running_loss = []\n",
        "        for idx, data in enumerate(trainloader):\n",
        "            optimizer.zero_grad()\n",
        "            L_img = data[0].to(device)\n",
        "            bin_img = data[1].to(device).long()\n",
        "            pred = model(L_img)\n",
        "            # pred is NxCxHxW and C is 313\n",
        "            pred = pred.permute(0, 2, 3, 1).flatten(1, 2)\n",
        "            pred = pred.flatten(0, 1)\n",
        "            bin_img = bin_img.permute(0, 2, 3, 1).flatten(1, 2)\n",
        "            bin_img = bin_img.flatten(0, 1).squeeze()\n",
        "            # make into one long N*H*WxC vector for both and compare\n",
        "            # loss = criterion(pred, bin_img)\n",
        "            # EXPERIMENTAL\n",
        "            ce_loss = criterion(pred, bin_img)\n",
        "            # pred = torch.argmax(pred, axis=1)\n",
        "            # counts = torch.bincount(pred, minlength=313)\n",
        "            # counts = counts / torch.sum(counts)\n",
        "            counts = torch.sum(pred, axis=0, dtype=float)\n",
        "            counts /= torch.sum(counts)\n",
        "            mse_loss = mse_crit(counts, priors)\n",
        "            loss = 0.6*ce_loss + 0.4 * mse_loss\n",
        "            # END EXPERIMENTAL\n",
        "            running_loss.append(loss.item())\n",
        "            loss.backward()\n",
        "            optimizer.step()            \n",
        "\n",
        "        model.eval()\n",
        "        running_val_loss = []\n",
        "        with torch.no_grad():\n",
        "            for idx, data in enumerate(valloader):\n",
        "                L_img = data[0].to(device)\n",
        "                bin_img = data[1].to(device).long()\n",
        "                pred = model(L_img)\n",
        "                pred = pred.permute(0, 2, 3, 1).flatten(1, 2)\n",
        "                pred = pred.flatten(0, 1)\n",
        "                bin_img = bin_img.permute(0, 2, 3, 1).flatten(1, 2)\n",
        "                bin_img = bin_img.flatten(0, 1).squeeze()\n",
        "                loss = criterion(pred, bin_img)\n",
        "                running_val_loss.append(loss.item())\n",
        "\n",
        "        train_loss = np.mean(running_loss)\n",
        "        val_loss = np.mean(running_val_loss)\n",
        "        print(\"\\nEpoch {} train loss: {} val loss: {}\".format(i + 1, train_loss, val_loss))\n",
        "        trn_loss_hist.append(train_loss)\n",
        "        val_loss_hist.append(val_loss)\n",
        "\n",
        "        #SAVE CHECKPOINT every 10 iterations to EECS442Group in gdrive\n",
        "        \"\"\"\n",
        "        if (i % 10) == 0:\n",
        "          save_checkpoint(i, model, np.mean(running_loss))\n",
        "        \"\"\"\n",
        "        if (i+1) % args['checkpoint_freq'] == 0:\n",
        "          # CHANGE\n",
        "          experiment_number = '5'\n",
        "          torch.save({'epoch': i,\n",
        "                      'model_state_dict': model.state_dict(),\n",
        "                      'optimizer_state_dict': optimizer.state_dict(),\n",
        "                      'loss': train_loss,\n",
        "                      }, '/content/drive/MyDrive/EECS442Group/checkpoints/model_'+str(i+1)+'_'+experiment_number+'.pt')\n",
        "        #model_name should be model_epoch_idx.pt\n",
        "        \n",
        "    return trn_loss_hist, val_loss_hist\n",
        "\n",
        "\n",
        "def init_transform(args):\n",
        "    # if we flip, then need to flip both\n",
        "    transform = transforms.Compose([\n",
        "            transforms.ToTensor()\n",
        "        ])\n",
        "    return transform\n",
        "\n",
        "\n",
        "def evaluate(model, loader):\n",
        "  model.eval() # Set the model to evaluation mode\n",
        "  correct = 0\n",
        "  with torch.no_grad(): # Do not calculate gradient to speed up computation\n",
        "    for batch, label in tqdm(loader):\n",
        "      batch = batch.to(device)\n",
        "      label = label.to(device)\n",
        "      pred = model(batch)\n",
        "      correct += (torch.argmax(pred,dim=1)==label).sum().item()\n",
        "    acc = correct/len(loader.dataset)\n",
        "    print(\"\\n Evaluation accuracy: {}\".format(acc))\n",
        "    return acc\n"
      ],
      "execution_count": null,
      "outputs": []
    },
    {
      "cell_type": "code",
      "metadata": {
        "id": "pbHjemeKAEYm",
        "colab": {
          "base_uri": "https://localhost:8080/"
        },
        "outputId": "ed6eb5e7-a1e2-4bcb-805a-94de312b027f"
      },
      "source": [
        "# Grab hyperparameters from command line\n",
        "args = init_arguments()\n",
        "transform = init_transform(args)\n",
        "\n",
        "# Load Dataset\n",
        "bin_converter = Bin_Converter()\n",
        "dataset = ImageFolder(args['data_path'], transform)\n",
        "train_set = Subset(dataset, range(4800))\n",
        "val_set = Subset(dataset, range(4800, 5400))\n",
        "test_set = Subset(dataset, range(5400, 6000))\n",
        "trainloader = torch.utils.data.DataLoader(train_set, batch_size=args['batch_size'])\n",
        "valloader = torch.utils.data.DataLoader(val_set, batch_size=args['batch_size'])\n",
        "\n",
        "# Define loss function, and optimizer\n",
        "class_rebalancing = torch.tensor(bin_converter.weights, dtype=torch.float).to(device)\n",
        "\n",
        "criterion = torch.nn.CrossEntropyLoss(weight=class_rebalancing)\n",
        "optimizer = torch.optim.Adam(net.parameters(), lr=args[\"lr\"], weight_decay=args[\"weight_decay\"])\n",
        "\n",
        "# Train\n",
        "trn_loss_hist, val_loss_hist = train(net, trainloader, valloader, args['num_epochs'], optimizer, criterion, args, device)"
      ],
      "execution_count": null,
      "outputs": [
        {
          "output_type": "stream",
          "text": [
            "Start training...\n",
            "\n",
            "Epoch 1 train loss: 1.9641752462547784 val loss: 3.2655819606781007\n",
            "\n",
            "Epoch 2 train loss: 1.948994374561568 val loss: 3.3091069793701173\n",
            "\n",
            "Epoch 3 train loss: 1.9355079323297901 val loss: 3.2894660313924153\n",
            "\n",
            "Epoch 4 train loss: 1.9215926583598661 val loss: 3.293380257288615\n",
            "\n",
            "Epoch 5 train loss: 1.9094923856790826 val loss: 3.3359070682525633\n",
            "\n",
            "Epoch 6 train loss: 1.8939193423676277 val loss: 3.3009297180175783\n",
            "\n",
            "Epoch 7 train loss: 1.8795985195183835 val loss: 3.3092792733510334\n",
            "\n",
            "Epoch 8 train loss: 1.8585095669015508 val loss: 3.3508730570475262\n",
            "\n",
            "Epoch 9 train loss: 1.8462129141829398 val loss: 3.3678043333689374\n",
            "\n",
            "Epoch 10 train loss: 1.8310133034213816 val loss: 3.3818511613210043\n",
            "\n",
            "Epoch 11 train loss: 1.809673013570232 val loss: 3.4138476753234865\n",
            "\n",
            "Epoch 12 train loss: 1.7902212252609546 val loss: 3.5003252442677817\n",
            "\n",
            "Epoch 13 train loss: 1.7747073342081876 val loss: 3.4403092861175537\n",
            "\n",
            "Epoch 14 train loss: 1.7550027508935546 val loss: 3.4706359640757243\n",
            "\n",
            "Epoch 15 train loss: 1.735825290508114 val loss: 3.440423339207967\n",
            "\n",
            "Epoch 16 train loss: 1.718070276377285 val loss: 3.542337156931559\n",
            "\n",
            "Epoch 17 train loss: 1.7077675421301646 val loss: 3.5601099904378257\n",
            "\n",
            "Epoch 18 train loss: 1.6969724644134894 val loss: 3.5549772930145265\n",
            "\n",
            "Epoch 19 train loss: 1.6738765797030772 val loss: 3.5535870361328126\n",
            "\n",
            "Epoch 20 train loss: 1.6563444700396772 val loss: 3.5722845935821534\n",
            "\n",
            "Epoch 21 train loss: 1.6459584416129533 val loss: 3.578014284769694\n",
            "\n",
            "Epoch 22 train loss: 1.6326725605307202 val loss: 3.580274330774943\n",
            "\n",
            "Epoch 23 train loss: 1.6116931897168538 val loss: 3.612473478317261\n",
            "\n",
            "Epoch 24 train loss: 1.602105302019025 val loss: 3.6479108142852783\n",
            "\n",
            "Epoch 25 train loss: 1.588634533601748 val loss: 3.6902460130055745\n",
            "\n",
            "Epoch 26 train loss: 1.5690930834602996 val loss: 3.658516527811686\n",
            "\n",
            "Epoch 27 train loss: 1.5595457579500556 val loss: 3.6654900614420574\n",
            "\n",
            "Epoch 28 train loss: 1.5489882031062174 val loss: 3.761849234898885\n",
            "\n",
            "Epoch 29 train loss: 1.5354368190628844 val loss: 3.7085976505279543\n",
            "\n",
            "Epoch 30 train loss: 1.52323338143936 val loss: 3.731040786107381\n",
            "\n",
            "Epoch 31 train loss: 1.5062315809266875 val loss: 3.7601226234436034\n",
            "\n",
            "Epoch 32 train loss: 1.5028652691014939 val loss: 3.7853855005900066\n",
            "\n",
            "Epoch 33 train loss: 1.4896186771292272 val loss: 3.759497445424398\n",
            "\n",
            "Epoch 34 train loss: 1.4730806232366342 val loss: 3.8208300240834556\n",
            "\n",
            "Epoch 35 train loss: 1.4681729235206538 val loss: 3.782842254638672\n",
            "\n",
            "Epoch 36 train loss: 1.458493306844564 val loss: 3.8579411474863687\n",
            "\n",
            "Epoch 37 train loss: 1.445328901893736 val loss: 3.8526644929250082\n",
            "\n",
            "Epoch 38 train loss: 1.4305909835460888 val loss: 3.810016139348348\n",
            "\n",
            "Epoch 39 train loss: 1.418583337279219 val loss: 3.9131677754720053\n",
            "\n",
            "Epoch 40 train loss: 1.4169743213670811 val loss: 3.90099773089091\n",
            "\n",
            "Epoch 41 train loss: 1.4003651744858332 val loss: 3.847500966389974\n",
            "\n",
            "Epoch 42 train loss: 1.3935308909653688 val loss: 3.904917516708374\n",
            "\n",
            "Epoch 43 train loss: 1.3853690206576394 val loss: 3.8584418455759684\n",
            "\n",
            "Epoch 44 train loss: 1.37682146307107 val loss: 3.8753166739145914\n",
            "\n",
            "Epoch 45 train loss: 1.3621845167932618 val loss: 3.8435533555348713\n",
            "\n",
            "Epoch 46 train loss: 1.3571824431371249 val loss: 3.977098169326782\n",
            "\n",
            "Epoch 47 train loss: 1.3489781575101105 val loss: 4.0030256938934325\n",
            "\n",
            "Epoch 48 train loss: 1.3457804005248681 val loss: 4.080174582799276\n",
            "\n",
            "Epoch 49 train loss: 1.3391244690036974 val loss: 3.980886869430542\n",
            "\n",
            "Epoch 50 train loss: 1.3206340195370554 val loss: 3.9826788489023843\n",
            "\n",
            "Epoch 51 train loss: 1.3102762269960404 val loss: 3.991535441080729\n",
            "\n",
            "Epoch 52 train loss: 1.3030899021142184 val loss: 3.99838773727417\n",
            "\n",
            "Epoch 53 train loss: 1.2937291602442265 val loss: 4.0949273204803465\n",
            "\n",
            "Epoch 54 train loss: 1.283789804269921 val loss: 4.040631504058838\n",
            "\n",
            "Epoch 55 train loss: 1.282424030560732 val loss: 4.156508188247681\n",
            "\n",
            "Epoch 56 train loss: 1.2743379005517754 val loss: 4.264087804158529\n",
            "\n",
            "Epoch 57 train loss: 1.2579508665838437 val loss: 4.208726059595744\n",
            "\n",
            "Epoch 58 train loss: 1.2570314267474736 val loss: 4.0315705680847165\n",
            "\n",
            "Epoch 59 train loss: 1.2554605278704807 val loss: 4.0555443255106605\n",
            "\n",
            "Epoch 60 train loss: 1.2451413409505059 val loss: 4.128889516194661\n",
            "\n",
            "Epoch 61 train loss: 1.234574897643834 val loss: 4.146382411321004\n",
            "\n",
            "Epoch 62 train loss: 1.2262975630284232 val loss: 4.258553711573283\n",
            "\n",
            "Epoch 63 train loss: 1.2193200564035374 val loss: 4.240642875035604\n",
            "\n",
            "Epoch 64 train loss: 1.226660693826198 val loss: 4.277313114802043\n",
            "\n",
            "Epoch 65 train loss: 1.2212147150909223 val loss: 4.160575313568115\n",
            "\n",
            "Epoch 66 train loss: 1.2081213075607573 val loss: 4.239855995178223\n",
            "\n",
            "Epoch 67 train loss: 1.2015890596713312 val loss: 4.35856068611145\n",
            "\n",
            "Epoch 68 train loss: 1.195207755708589 val loss: 4.342982447942098\n",
            "\n",
            "Epoch 69 train loss: 1.192488601617267 val loss: 4.2856103134155275\n",
            "\n",
            "Epoch 70 train loss: 1.1878894860378202 val loss: 4.329934651056925\n",
            "\n",
            "Epoch 71 train loss: 1.1804291277710128 val loss: 4.318161312739054\n",
            "\n",
            "Epoch 72 train loss: 1.1707082873191574 val loss: 4.315123154322307\n",
            "\n",
            "Epoch 73 train loss: 1.1709894843479787 val loss: 4.166829353968303\n",
            "\n",
            "Epoch 74 train loss: 1.171543582107138 val loss: 4.272068357467651\n",
            "\n",
            "Epoch 75 train loss: 1.157694590257819 val loss: 4.382934172948201\n",
            "\n",
            "Epoch 76 train loss: 1.151156268282062 val loss: 4.410165672302246\n",
            "\n",
            "Epoch 77 train loss: 1.146607467647431 val loss: 4.415882031122844\n",
            "\n",
            "Epoch 78 train loss: 1.1447762793031762 val loss: 4.359568579991659\n",
            "\n",
            "Epoch 79 train loss: 1.1455572643732639 val loss: 4.354407383600871\n",
            "\n",
            "Epoch 80 train loss: 1.135420066800647 val loss: 4.32391718228658\n",
            "\n",
            "Epoch 81 train loss: 1.1305984666490003 val loss: 4.469554646809896\n",
            "\n",
            "Epoch 82 train loss: 1.1362025853479556 val loss: 4.325410645802815\n",
            "\n",
            "Epoch 83 train loss: 1.133198552937337 val loss: 4.354716145197551\n",
            "\n",
            "Epoch 84 train loss: 1.1193882600385097 val loss: 4.478024975458781\n",
            "\n",
            "Epoch 85 train loss: 1.1130621645985812 val loss: 4.649499476750692\n",
            "\n",
            "Epoch 86 train loss: 1.1133330029278863 val loss: 4.408321650822957\n",
            "\n",
            "Epoch 87 train loss: 1.102951825808622 val loss: 4.318660122553507\n",
            "\n",
            "Epoch 88 train loss: 1.0995460508859425 val loss: 4.555127391815185\n",
            "\n",
            "Epoch 89 train loss: 1.0895330839637187 val loss: 4.5182602500915525\n",
            "\n",
            "Epoch 90 train loss: 1.0903782205953856 val loss: 4.505168310801188\n",
            "\n",
            "Epoch 91 train loss: 1.0819436843625059 val loss: 4.630914967854817\n",
            "\n",
            "Epoch 92 train loss: 1.0829734719204842 val loss: 4.6467947642008465\n",
            "\n",
            "Epoch 93 train loss: 1.09030957737991 val loss: 4.601444161732991\n",
            "\n",
            "Epoch 94 train loss: 1.0812868540109377 val loss: 4.6682443523406985\n",
            "\n",
            "Epoch 95 train loss: 1.0719816728382332 val loss: 4.705429929097494\n",
            "\n",
            "Epoch 96 train loss: 1.0637994142747988 val loss: 4.672385056813558\n",
            "\n",
            "Epoch 97 train loss: 1.0617617008461468 val loss: 4.5804834524790445\n",
            "\n",
            "Epoch 98 train loss: 1.060386357137915 val loss: 4.678416328430176\n",
            "\n",
            "Epoch 99 train loss: 1.0590937143595591 val loss: 4.8237921555837\n",
            "\n",
            "Epoch 100 train loss: 1.0519957121584842 val loss: 4.85679279645284\n"
          ],
          "name": "stdout"
        }
      ]
    },
    {
      "cell_type": "markdown",
      "metadata": {
        "id": "IhlX9KqFi5WO"
      },
      "source": [
        "Evaluate Performance"
      ]
    },
    {
      "cell_type": "code",
      "metadata": {
        "colab": {
          "base_uri": "https://localhost:8080/"
        },
        "id": "zv6N_pLnTc9Y",
        "outputId": "e00b7f08-8062-4b66-983f-b9a331c44e75"
      },
      "source": [
        "# Helper function for opening test image\n",
        "def open_img_error_check(image_path):\n",
        "  try:\n",
        "    return Image.open(image_path).convert('RGB')\n",
        "  except:\n",
        "    return \"error\"\n",
        "\n",
        "# set epoch of choice\n",
        "load_epoch = 100\n",
        "\n",
        "bin_converter = Bin_Converter()\n",
        "model = Colorizer().to(device)\n",
        "# CHANGE\n",
        "experiment_number = '5'\n",
        "checkpoint = torch.load('/content/drive/MyDrive/EECS442Group/checkpoints/model_'+str(load_epoch)+\"_\"+ experiment_number + '.pt')\n",
        "model.load_state_dict(checkpoint['model_state_dict'])\n",
        "model.eval()\n",
        "\n",
        "dataset_pathway = \"/content/drive/MyDrive/EECS442Group/celeba\"\n",
        "save_img = True\n",
        "\n",
        "ssim_scores = []\n",
        "psnr_scores = []\n",
        "counter = 5400\n",
        "with torch.no_grad():\n",
        "    for test_image in test_set:\n",
        "        img_idx = str(counter).zfill(6)\n",
        "        image_path = str(dataset_pathway) + \"/\" + str(img_idx) + \".jpg\"\n",
        "\n",
        "        img = open_img_error_check(image_path)\n",
        "\n",
        "        # Only opens existing images since naming mechanism isn't sequential in celeba gdrive\n",
        "        if img == \"error\":\n",
        "          counter += 1\n",
        "        else:\n",
        "          img = img.resize((64, 64), Image.BICUBIC)\n",
        "          img = np.array(img)\n",
        "          original_img = img\n",
        "          img = color.rgb2lab(img).astype(np.float32)\n",
        "\n",
        "          dict_key = \"celeba\\\\\" + str(img_idx) + \".jpg\"\n",
        "          L_img = np.array(L_hf.get(dict_key))\n",
        "          AB_img = AB_hf.get(dict_key)\n",
        "\n",
        "          input = transform(L_img).to(device)\n",
        "          input = torch.unsqueeze(input, 0)\n",
        "          pred = model(input)\n",
        "          pred = np.squeeze(pred.cpu().numpy())\n",
        "\n",
        "          pred_AB = []\n",
        "          # change 1-5\n",
        "          num_max_bins = 2\n",
        "          for i in range(num_max_bins):\n",
        "              max = np.argmax(pred, axis=0)\n",
        "              pred[max] = -100000\n",
        "              pred_AB.append(bin_converter.convert_AB(max))\n",
        "\n",
        "          test = np.dstack((img[:, :, 0], pred_AB[0].transpose(1,2,0)))\n",
        "          test = (255 * np.clip(color.lab2rgb(test), 0, 1)).astype(np.uint8)\n",
        "\n",
        "          pred_AB = np.mean(np.array(pred_AB), axis=0)\n",
        "          pred_AB = pred_AB.transpose(1, 2, 0)\n",
        "\n",
        "          output = np.dstack((img[:, :, 0], pred_AB))\n",
        "          colorized_img = output\n",
        "          output = (255 * np.clip(color.lab2rgb(output), 0, 1)).astype(np.uint8)\n",
        "\n",
        "          (ssim_score, diff) = compare_ssim(original_img, output, full=True, multichannel=True)\n",
        "          psnr_score = peak_signal_noise_ratio(original_img, output)\n",
        "          ssim_scores.append(ssim_score)\n",
        "          psnr_scores.append(psnr_score)\n",
        "          if save_img:\n",
        "            plt.imsave(\"/content/drive/MyDrive/EECS442Group/output_images/L_img.jpg\", L_img, cmap=\"gray\")\n",
        "            save_img = False\n",
        "            filename = \"/content/drive/MyDrive/EECS442Group/output_images/\"+str(img_idx)+str(counter)+\"_\"+experiment_number+'.jpg'\n",
        "            plt.imsave(filename, output)\n",
        "\n",
        "          counter += 1\n",
        "          print(counter)\n",
        "    print(np.mean(ssim_scores), np.mean(psnr_scores))"
      ],
      "execution_count": null,
      "outputs": [
        {
          "output_type": "stream",
          "text": [
            "/usr/local/lib/python3.7/dist-packages/ipykernel_launcher.py:72: UserWarning: DEPRECATED: skimage.measure.compare_ssim has been moved to skimage.metrics.structural_similarity. It will be removed from skimage.measure in version 0.18.\n"
          ],
          "name": "stderr"
        },
        {
          "output_type": "stream",
          "text": [
            "5401\n",
            "5402\n",
            "5403\n",
            "5404\n"
          ],
          "name": "stdout"
        },
        {
          "output_type": "stream",
          "text": [
            "/usr/local/lib/python3.7/dist-packages/skimage/color/colorconv.py:1068: UserWarning: Color data out of range: Z < 0 in 2 pixels\n",
            "  return xyz2rgb(lab2xyz(lab, illuminant, observer))\n",
            "/usr/local/lib/python3.7/dist-packages/skimage/color/colorconv.py:1068: UserWarning: Color data out of range: Z < 0 in 1 pixels\n",
            "  return xyz2rgb(lab2xyz(lab, illuminant, observer))\n",
            "/usr/local/lib/python3.7/dist-packages/skimage/color/colorconv.py:1068: UserWarning: Color data out of range: Z < 0 in 88 pixels\n",
            "  return xyz2rgb(lab2xyz(lab, illuminant, observer))\n",
            "/usr/local/lib/python3.7/dist-packages/skimage/color/colorconv.py:1068: UserWarning: Color data out of range: Z < 0 in 29 pixels\n",
            "  return xyz2rgb(lab2xyz(lab, illuminant, observer))\n",
            "/usr/local/lib/python3.7/dist-packages/skimage/color/colorconv.py:1068: UserWarning: Color data out of range: Z < 0 in 10 pixels\n",
            "  return xyz2rgb(lab2xyz(lab, illuminant, observer))\n"
          ],
          "name": "stderr"
        },
        {
          "output_type": "stream",
          "text": [
            "5405\n",
            "5406\n",
            "5407\n",
            "5408\n",
            "5409\n",
            "5410\n",
            "5411\n",
            "5412\n"
          ],
          "name": "stdout"
        },
        {
          "output_type": "stream",
          "text": [
            "/usr/local/lib/python3.7/dist-packages/skimage/color/colorconv.py:1068: UserWarning: Color data out of range: Z < 0 in 5 pixels\n",
            "  return xyz2rgb(lab2xyz(lab, illuminant, observer))\n",
            "/usr/local/lib/python3.7/dist-packages/skimage/color/colorconv.py:1068: UserWarning: Color data out of range: Z < 0 in 34 pixels\n",
            "  return xyz2rgb(lab2xyz(lab, illuminant, observer))\n",
            "/usr/local/lib/python3.7/dist-packages/skimage/color/colorconv.py:1068: UserWarning: Color data out of range: Z < 0 in 33 pixels\n",
            "  return xyz2rgb(lab2xyz(lab, illuminant, observer))\n"
          ],
          "name": "stderr"
        },
        {
          "output_type": "stream",
          "text": [
            "5413\n",
            "5414\n",
            "5415\n",
            "5416\n",
            "5417\n",
            "5418\n",
            "5419\n",
            "5420\n",
            "5421\n",
            "5422\n",
            "5423\n",
            "5424\n"
          ],
          "name": "stdout"
        },
        {
          "output_type": "stream",
          "text": [
            "/usr/local/lib/python3.7/dist-packages/skimage/color/colorconv.py:1068: UserWarning: Color data out of range: Z < 0 in 25 pixels\n",
            "  return xyz2rgb(lab2xyz(lab, illuminant, observer))\n"
          ],
          "name": "stderr"
        },
        {
          "output_type": "stream",
          "text": [
            "5425\n",
            "5426\n",
            "5427\n",
            "5428\n",
            "5429\n",
            "5430\n",
            "5431\n",
            "5432\n"
          ],
          "name": "stdout"
        },
        {
          "output_type": "stream",
          "text": [
            "/usr/local/lib/python3.7/dist-packages/skimage/color/colorconv.py:1068: UserWarning: Color data out of range: Z < 0 in 9 pixels\n",
            "  return xyz2rgb(lab2xyz(lab, illuminant, observer))\n"
          ],
          "name": "stderr"
        },
        {
          "output_type": "stream",
          "text": [
            "5433\n",
            "5434\n",
            "5435\n",
            "5436\n",
            "5437\n",
            "5438\n",
            "5439\n",
            "5440\n",
            "5441\n",
            "5442\n",
            "5443\n",
            "5444\n"
          ],
          "name": "stdout"
        },
        {
          "output_type": "stream",
          "text": [
            "/usr/local/lib/python3.7/dist-packages/skimage/color/colorconv.py:1068: UserWarning: Color data out of range: Z < 0 in 28 pixels\n",
            "  return xyz2rgb(lab2xyz(lab, illuminant, observer))\n"
          ],
          "name": "stderr"
        },
        {
          "output_type": "stream",
          "text": [
            "5445\n",
            "5446\n",
            "5447\n",
            "5448\n",
            "5449\n",
            "5450\n",
            "5451\n",
            "5452\n",
            "5453\n",
            "5454\n",
            "5455\n",
            "5456\n"
          ],
          "name": "stdout"
        },
        {
          "output_type": "stream",
          "text": [
            "/usr/local/lib/python3.7/dist-packages/skimage/color/colorconv.py:1068: UserWarning: Color data out of range: Z < 0 in 244 pixels\n",
            "  return xyz2rgb(lab2xyz(lab, illuminant, observer))\n",
            "/usr/local/lib/python3.7/dist-packages/skimage/color/colorconv.py:1068: UserWarning: Color data out of range: Z < 0 in 179 pixels\n",
            "  return xyz2rgb(lab2xyz(lab, illuminant, observer))\n"
          ],
          "name": "stderr"
        },
        {
          "output_type": "stream",
          "text": [
            "5457\n",
            "5458\n",
            "5459\n",
            "5460\n",
            "5461\n",
            "5462\n",
            "5463\n",
            "5464\n",
            "5465\n",
            "5466\n",
            "5467\n",
            "5468\n"
          ],
          "name": "stdout"
        },
        {
          "output_type": "stream",
          "text": [
            "/usr/local/lib/python3.7/dist-packages/skimage/color/colorconv.py:1068: UserWarning: Color data out of range: Z < 0 in 66 pixels\n",
            "  return xyz2rgb(lab2xyz(lab, illuminant, observer))\n",
            "/usr/local/lib/python3.7/dist-packages/skimage/color/colorconv.py:1068: UserWarning: Color data out of range: Z < 0 in 15 pixels\n",
            "  return xyz2rgb(lab2xyz(lab, illuminant, observer))\n",
            "/usr/local/lib/python3.7/dist-packages/skimage/color/colorconv.py:1068: UserWarning: Color data out of range: Z < 0 in 17 pixels\n",
            "  return xyz2rgb(lab2xyz(lab, illuminant, observer))\n"
          ],
          "name": "stderr"
        },
        {
          "output_type": "stream",
          "text": [
            "5469\n",
            "5470\n",
            "5471\n",
            "5472\n"
          ],
          "name": "stdout"
        },
        {
          "output_type": "stream",
          "text": [
            "/usr/local/lib/python3.7/dist-packages/skimage/color/colorconv.py:1068: UserWarning: Color data out of range: Z < 0 in 14 pixels\n",
            "  return xyz2rgb(lab2xyz(lab, illuminant, observer))\n",
            "/usr/local/lib/python3.7/dist-packages/skimage/color/colorconv.py:1068: UserWarning: Color data out of range: Z < 0 in 21 pixels\n",
            "  return xyz2rgb(lab2xyz(lab, illuminant, observer))\n",
            "/usr/local/lib/python3.7/dist-packages/skimage/color/colorconv.py:1068: UserWarning: Color data out of range: Z < 0 in 12 pixels\n",
            "  return xyz2rgb(lab2xyz(lab, illuminant, observer))\n"
          ],
          "name": "stderr"
        },
        {
          "output_type": "stream",
          "text": [
            "5473\n",
            "5474\n",
            "5475\n",
            "5476\n",
            "5477\n",
            "5478\n",
            "5479\n",
            "5480\n",
            "5481\n",
            "5482\n",
            "5483\n",
            "5484\n"
          ],
          "name": "stdout"
        },
        {
          "output_type": "stream",
          "text": [
            "/usr/local/lib/python3.7/dist-packages/skimage/color/colorconv.py:1068: UserWarning: Color data out of range: Z < 0 in 4 pixels\n",
            "  return xyz2rgb(lab2xyz(lab, illuminant, observer))\n",
            "/usr/local/lib/python3.7/dist-packages/skimage/color/colorconv.py:1068: UserWarning: Color data out of range: Z < 0 in 11 pixels\n",
            "  return xyz2rgb(lab2xyz(lab, illuminant, observer))\n",
            "/usr/local/lib/python3.7/dist-packages/skimage/color/colorconv.py:1068: UserWarning: Color data out of range: Z < 0 in 18 pixels\n",
            "  return xyz2rgb(lab2xyz(lab, illuminant, observer))\n"
          ],
          "name": "stderr"
        },
        {
          "output_type": "stream",
          "text": [
            "5485\n",
            "5486\n",
            "5487\n",
            "5488\n",
            "5489\n",
            "5490\n",
            "5491\n",
            "5492\n",
            "5493\n",
            "5494\n",
            "5495\n",
            "5496\n"
          ],
          "name": "stdout"
        },
        {
          "output_type": "stream",
          "text": [
            "/usr/local/lib/python3.7/dist-packages/skimage/color/colorconv.py:1068: UserWarning: Color data out of range: Z < 0 in 13 pixels\n",
            "  return xyz2rgb(lab2xyz(lab, illuminant, observer))\n"
          ],
          "name": "stderr"
        },
        {
          "output_type": "stream",
          "text": [
            "5497\n",
            "5498\n",
            "5499\n",
            "5500\n",
            "5501\n",
            "5502\n",
            "5503\n",
            "5504\n",
            "5505\n",
            "5506\n",
            "5507\n",
            "5508\n",
            "5509\n",
            "5510\n",
            "5511\n",
            "5512\n",
            "5513\n",
            "5514\n",
            "5515\n",
            "5516\n",
            "5517\n",
            "5518\n",
            "5519\n",
            "5520\n"
          ],
          "name": "stdout"
        },
        {
          "output_type": "stream",
          "text": [
            "/usr/local/lib/python3.7/dist-packages/skimage/color/colorconv.py:1068: UserWarning: Color data out of range: Z < 0 in 40 pixels\n",
            "  return xyz2rgb(lab2xyz(lab, illuminant, observer))\n",
            "/usr/local/lib/python3.7/dist-packages/skimage/color/colorconv.py:1068: UserWarning: Color data out of range: Z < 0 in 159 pixels\n",
            "  return xyz2rgb(lab2xyz(lab, illuminant, observer))\n",
            "/usr/local/lib/python3.7/dist-packages/skimage/color/colorconv.py:1068: UserWarning: Color data out of range: Z < 0 in 157 pixels\n",
            "  return xyz2rgb(lab2xyz(lab, illuminant, observer))\n"
          ],
          "name": "stderr"
        },
        {
          "output_type": "stream",
          "text": [
            "5521\n",
            "5522\n",
            "5523\n",
            "5524\n",
            "5525\n",
            "5526\n",
            "5527\n",
            "5528\n",
            "5529\n",
            "5530\n",
            "5531\n",
            "5532\n",
            "5533\n",
            "5534\n",
            "5535\n",
            "5536\n",
            "5537\n",
            "5538\n",
            "5539\n",
            "5540\n",
            "5541\n",
            "5542\n",
            "5543\n",
            "5544\n",
            "5545\n",
            "5546\n",
            "5547\n",
            "5548\n",
            "5549\n",
            "5550\n",
            "5551\n",
            "5552\n",
            "5553\n",
            "5554\n",
            "5555\n",
            "5556\n",
            "5557\n",
            "5558\n",
            "5559\n",
            "5560\n",
            "5561\n",
            "5562\n",
            "5563\n",
            "5564\n",
            "5565\n",
            "5566\n",
            "5567\n",
            "5568\n",
            "5569\n",
            "5570\n",
            "5571\n",
            "5572\n"
          ],
          "name": "stdout"
        },
        {
          "output_type": "stream",
          "text": [
            "/usr/local/lib/python3.7/dist-packages/skimage/color/colorconv.py:1068: UserWarning: Color data out of range: Z < 0 in 8 pixels\n",
            "  return xyz2rgb(lab2xyz(lab, illuminant, observer))\n",
            "/usr/local/lib/python3.7/dist-packages/skimage/color/colorconv.py:1068: UserWarning: Color data out of range: Z < 0 in 182 pixels\n",
            "  return xyz2rgb(lab2xyz(lab, illuminant, observer))\n"
          ],
          "name": "stderr"
        },
        {
          "output_type": "stream",
          "text": [
            "5573\n",
            "5574\n",
            "5575\n",
            "5576\n",
            "5577\n",
            "5578\n",
            "5579\n",
            "5580\n"
          ],
          "name": "stdout"
        },
        {
          "output_type": "stream",
          "text": [
            "/usr/local/lib/python3.7/dist-packages/skimage/color/colorconv.py:1068: UserWarning: Color data out of range: Z < 0 in 3 pixels\n",
            "  return xyz2rgb(lab2xyz(lab, illuminant, observer))\n"
          ],
          "name": "stderr"
        },
        {
          "output_type": "stream",
          "text": [
            "5581\n",
            "5582\n",
            "5583\n",
            "5584\n",
            "5585\n",
            "5586\n",
            "5587\n",
            "5588\n",
            "5589\n",
            "5590\n",
            "5591\n",
            "5592\n"
          ],
          "name": "stdout"
        },
        {
          "output_type": "stream",
          "text": [
            "/usr/local/lib/python3.7/dist-packages/skimage/color/colorconv.py:1068: UserWarning: Color data out of range: Z < 0 in 93 pixels\n",
            "  return xyz2rgb(lab2xyz(lab, illuminant, observer))\n",
            "/usr/local/lib/python3.7/dist-packages/skimage/color/colorconv.py:1068: UserWarning: Color data out of range: Z < 0 in 95 pixels\n",
            "  return xyz2rgb(lab2xyz(lab, illuminant, observer))\n"
          ],
          "name": "stderr"
        },
        {
          "output_type": "stream",
          "text": [
            "5593\n",
            "5594\n",
            "5595\n",
            "5596\n",
            "5597\n",
            "5598\n",
            "5599\n",
            "5600\n",
            "5601\n",
            "5602\n",
            "5603\n",
            "5604\n",
            "5605\n",
            "5606\n",
            "5607\n",
            "5608\n",
            "5609\n",
            "5610\n",
            "5611\n",
            "5612\n",
            "5613\n",
            "5614\n",
            "5615\n",
            "5616\n",
            "5617\n",
            "5618\n",
            "5619\n",
            "5620\n",
            "5621\n",
            "5622\n",
            "5623\n",
            "5624\n",
            "5625\n",
            "5626\n",
            "5627\n",
            "5628\n",
            "5629\n",
            "5630\n",
            "5631\n",
            "5632\n",
            "5633\n",
            "5634\n",
            "5635\n",
            "5636\n"
          ],
          "name": "stdout"
        },
        {
          "output_type": "stream",
          "text": [
            "/usr/local/lib/python3.7/dist-packages/skimage/color/colorconv.py:1068: UserWarning: Color data out of range: Z < 0 in 58 pixels\n",
            "  return xyz2rgb(lab2xyz(lab, illuminant, observer))\n",
            "/usr/local/lib/python3.7/dist-packages/skimage/color/colorconv.py:1068: UserWarning: Color data out of range: Z < 0 in 116 pixels\n",
            "  return xyz2rgb(lab2xyz(lab, illuminant, observer))\n",
            "/usr/local/lib/python3.7/dist-packages/skimage/color/colorconv.py:1068: UserWarning: Color data out of range: Z < 0 in 96 pixels\n",
            "  return xyz2rgb(lab2xyz(lab, illuminant, observer))\n"
          ],
          "name": "stderr"
        },
        {
          "output_type": "stream",
          "text": [
            "5637\n",
            "5638\n",
            "5639\n",
            "5640\n",
            "5641\n",
            "5642\n",
            "5643\n",
            "5644\n"
          ],
          "name": "stdout"
        },
        {
          "output_type": "stream",
          "text": [
            "/usr/local/lib/python3.7/dist-packages/skimage/color/colorconv.py:1068: UserWarning: Color data out of range: Z < 0 in 24 pixels\n",
            "  return xyz2rgb(lab2xyz(lab, illuminant, observer))\n"
          ],
          "name": "stderr"
        },
        {
          "output_type": "stream",
          "text": [
            "5645\n",
            "5646\n",
            "5647\n",
            "5648\n"
          ],
          "name": "stdout"
        },
        {
          "output_type": "stream",
          "text": [
            "/usr/local/lib/python3.7/dist-packages/skimage/color/colorconv.py:1068: UserWarning: Color data out of range: Z < 0 in 57 pixels\n",
            "  return xyz2rgb(lab2xyz(lab, illuminant, observer))\n",
            "/usr/local/lib/python3.7/dist-packages/skimage/color/colorconv.py:1068: UserWarning: Color data out of range: Z < 0 in 59 pixels\n",
            "  return xyz2rgb(lab2xyz(lab, illuminant, observer))\n",
            "/usr/local/lib/python3.7/dist-packages/skimage/color/colorconv.py:1068: UserWarning: Color data out of range: Z < 0 in 31 pixels\n",
            "  return xyz2rgb(lab2xyz(lab, illuminant, observer))\n",
            "/usr/local/lib/python3.7/dist-packages/skimage/color/colorconv.py:1068: UserWarning: Color data out of range: Z < 0 in 38 pixels\n",
            "  return xyz2rgb(lab2xyz(lab, illuminant, observer))\n"
          ],
          "name": "stderr"
        },
        {
          "output_type": "stream",
          "text": [
            "5649\n",
            "5650\n",
            "5651\n",
            "5652\n",
            "5653\n",
            "5654\n",
            "5655\n",
            "5656\n"
          ],
          "name": "stdout"
        },
        {
          "output_type": "stream",
          "text": [
            "/usr/local/lib/python3.7/dist-packages/skimage/color/colorconv.py:1068: UserWarning: Color data out of range: Z < 0 in 23 pixels\n",
            "  return xyz2rgb(lab2xyz(lab, illuminant, observer))\n",
            "/usr/local/lib/python3.7/dist-packages/skimage/color/colorconv.py:1068: UserWarning: Color data out of range: Z < 0 in 32 pixels\n",
            "  return xyz2rgb(lab2xyz(lab, illuminant, observer))\n",
            "/usr/local/lib/python3.7/dist-packages/skimage/color/colorconv.py:1068: UserWarning: Color data out of range: Z < 0 in 48 pixels\n",
            "  return xyz2rgb(lab2xyz(lab, illuminant, observer))\n"
          ],
          "name": "stderr"
        },
        {
          "output_type": "stream",
          "text": [
            "5657\n",
            "5658\n",
            "5659\n",
            "5660\n",
            "5661\n",
            "5662\n",
            "5663\n",
            "5664\n",
            "5665\n",
            "5666\n",
            "5667\n",
            "5668\n",
            "5669\n",
            "5670\n",
            "5671\n",
            "5672\n",
            "5673\n",
            "5674\n",
            "5675\n",
            "5676\n",
            "5677\n",
            "5678\n",
            "5679\n",
            "5680\n"
          ],
          "name": "stdout"
        },
        {
          "output_type": "stream",
          "text": [
            "/usr/local/lib/python3.7/dist-packages/skimage/color/colorconv.py:1068: UserWarning: Color data out of range: Z < 0 in 80 pixels\n",
            "  return xyz2rgb(lab2xyz(lab, illuminant, observer))\n",
            "/usr/local/lib/python3.7/dist-packages/skimage/color/colorconv.py:1068: UserWarning: Color data out of range: Z < 0 in 107 pixels\n",
            "  return xyz2rgb(lab2xyz(lab, illuminant, observer))\n"
          ],
          "name": "stderr"
        },
        {
          "output_type": "stream",
          "text": [
            "5681\n",
            "5682\n",
            "5683\n",
            "5684\n"
          ],
          "name": "stdout"
        },
        {
          "output_type": "stream",
          "text": [
            "/usr/local/lib/python3.7/dist-packages/skimage/color/colorconv.py:1068: UserWarning: Color data out of range: Z < 0 in 6 pixels\n",
            "  return xyz2rgb(lab2xyz(lab, illuminant, observer))\n"
          ],
          "name": "stderr"
        },
        {
          "output_type": "stream",
          "text": [
            "5685\n",
            "5686\n",
            "5687\n",
            "5688\n",
            "5689\n",
            "5690\n",
            "5691\n",
            "5692\n"
          ],
          "name": "stdout"
        },
        {
          "output_type": "stream",
          "text": [
            "/usr/local/lib/python3.7/dist-packages/skimage/color/colorconv.py:1068: UserWarning: Color data out of range: Z < 0 in 64 pixels\n",
            "  return xyz2rgb(lab2xyz(lab, illuminant, observer))\n"
          ],
          "name": "stderr"
        },
        {
          "output_type": "stream",
          "text": [
            "5693\n",
            "5694\n",
            "5695\n",
            "5696\n",
            "5697\n",
            "5698\n",
            "5699\n",
            "5700\n",
            "5701\n",
            "5702\n",
            "5703\n",
            "5704\n"
          ],
          "name": "stdout"
        },
        {
          "output_type": "stream",
          "text": [
            "/usr/local/lib/python3.7/dist-packages/skimage/color/colorconv.py:1068: UserWarning: Color data out of range: Z < 0 in 44 pixels\n",
            "  return xyz2rgb(lab2xyz(lab, illuminant, observer))\n",
            "/usr/local/lib/python3.7/dist-packages/skimage/color/colorconv.py:1068: UserWarning: Color data out of range: Z < 0 in 56 pixels\n",
            "  return xyz2rgb(lab2xyz(lab, illuminant, observer))\n"
          ],
          "name": "stderr"
        },
        {
          "output_type": "stream",
          "text": [
            "5705\n",
            "5706\n",
            "5707\n",
            "5708\n",
            "5709\n",
            "5710\n",
            "5711\n",
            "5712\n"
          ],
          "name": "stdout"
        },
        {
          "output_type": "stream",
          "text": [
            "/usr/local/lib/python3.7/dist-packages/skimage/color/colorconv.py:1068: UserWarning: Color data out of range: Z < 0 in 16 pixels\n",
            "  return xyz2rgb(lab2xyz(lab, illuminant, observer))\n"
          ],
          "name": "stderr"
        },
        {
          "output_type": "stream",
          "text": [
            "5713\n",
            "5714\n",
            "5715\n",
            "5716\n",
            "5717\n",
            "5718\n",
            "5719\n",
            "5720\n",
            "5721\n",
            "5722\n",
            "5723\n",
            "5724\n",
            "5725\n",
            "5726\n",
            "5727\n",
            "5728\n"
          ],
          "name": "stdout"
        },
        {
          "output_type": "stream",
          "text": [
            "/usr/local/lib/python3.7/dist-packages/skimage/color/colorconv.py:1068: UserWarning: Color data out of range: Z < 0 in 27 pixels\n",
            "  return xyz2rgb(lab2xyz(lab, illuminant, observer))\n"
          ],
          "name": "stderr"
        },
        {
          "output_type": "stream",
          "text": [
            "5729\n",
            "5730\n",
            "5731\n",
            "5732\n",
            "5733\n",
            "5734\n",
            "5735\n",
            "5736\n",
            "5737\n",
            "5738\n",
            "5739\n",
            "5740\n"
          ],
          "name": "stdout"
        },
        {
          "output_type": "stream",
          "text": [
            "/usr/local/lib/python3.7/dist-packages/skimage/color/colorconv.py:1068: UserWarning: Color data out of range: Z < 0 in 99 pixels\n",
            "  return xyz2rgb(lab2xyz(lab, illuminant, observer))\n",
            "/usr/local/lib/python3.7/dist-packages/skimage/color/colorconv.py:1068: UserWarning: Color data out of range: Z < 0 in 98 pixels\n",
            "  return xyz2rgb(lab2xyz(lab, illuminant, observer))\n"
          ],
          "name": "stderr"
        },
        {
          "output_type": "stream",
          "text": [
            "5741\n",
            "5742\n",
            "5743\n",
            "5744\n"
          ],
          "name": "stdout"
        },
        {
          "output_type": "stream",
          "text": [
            "/usr/local/lib/python3.7/dist-packages/skimage/color/colorconv.py:1068: UserWarning: Color data out of range: Z < 0 in 7 pixels\n",
            "  return xyz2rgb(lab2xyz(lab, illuminant, observer))\n"
          ],
          "name": "stderr"
        },
        {
          "output_type": "stream",
          "text": [
            "5745\n",
            "5746\n",
            "5747\n",
            "5748\n",
            "5749\n",
            "5750\n",
            "5751\n",
            "5752\n",
            "5753\n",
            "5754\n",
            "5755\n",
            "5756\n",
            "5757\n",
            "5758\n",
            "5759\n",
            "5760\n",
            "5761\n",
            "5762\n",
            "5763\n",
            "5764\n",
            "5765\n",
            "5766\n",
            "5767\n",
            "5768\n",
            "5769\n",
            "5770\n",
            "5771\n",
            "5772\n",
            "5773\n",
            "5774\n",
            "5775\n",
            "5776\n",
            "5777\n",
            "5778\n",
            "5779\n",
            "5780\n",
            "5781\n",
            "5782\n",
            "5783\n",
            "5784\n",
            "5785\n",
            "5786\n",
            "5787\n",
            "5788\n",
            "5789\n",
            "5790\n",
            "5791\n",
            "5792\n",
            "5793\n",
            "5794\n",
            "5795\n",
            "5796\n",
            "5797\n",
            "5798\n",
            "5799\n",
            "5800\n",
            "5801\n",
            "5802\n",
            "5803\n",
            "5804\n"
          ],
          "name": "stdout"
        },
        {
          "output_type": "stream",
          "text": [
            "/usr/local/lib/python3.7/dist-packages/skimage/color/colorconv.py:1068: UserWarning: Color data out of range: Z < 0 in 22 pixels\n",
            "  return xyz2rgb(lab2xyz(lab, illuminant, observer))\n",
            "/usr/local/lib/python3.7/dist-packages/skimage/color/colorconv.py:1068: UserWarning: Color data out of range: Z < 0 in 85 pixels\n",
            "  return xyz2rgb(lab2xyz(lab, illuminant, observer))\n"
          ],
          "name": "stderr"
        },
        {
          "output_type": "stream",
          "text": [
            "5805\n",
            "5806\n",
            "5807\n",
            "5808\n",
            "5809\n",
            "5810\n",
            "5811\n",
            "5812\n",
            "5813\n",
            "5814\n",
            "5815\n",
            "5816\n",
            "5817\n",
            "5818\n",
            "5819\n",
            "5820\n",
            "5821\n",
            "5822\n",
            "5823\n",
            "5824\n",
            "5825\n",
            "5826\n",
            "5827\n",
            "5828\n",
            "5829\n",
            "5830\n",
            "5831\n",
            "5832\n",
            "5833\n",
            "5834\n",
            "5835\n",
            "5836\n",
            "5837\n",
            "5838\n",
            "5839\n",
            "5840\n",
            "5841\n",
            "5842\n",
            "5843\n",
            "5844\n",
            "5845\n",
            "5846\n",
            "5847\n",
            "5848\n",
            "5849\n",
            "5850\n",
            "5851\n",
            "5852\n",
            "5853\n",
            "5854\n",
            "5855\n",
            "5856\n",
            "5857\n",
            "5858\n",
            "5859\n",
            "5860\n",
            "5861\n",
            "5862\n",
            "5863\n",
            "5864\n",
            "5865\n",
            "5866\n",
            "5867\n",
            "5868\n",
            "5869\n",
            "5870\n",
            "5871\n",
            "5872\n",
            "5873\n",
            "5874\n",
            "5875\n",
            "5876\n",
            "5877\n",
            "5878\n",
            "5879\n",
            "5880\n",
            "5881\n",
            "5882\n",
            "5883\n",
            "5884\n"
          ],
          "name": "stdout"
        },
        {
          "output_type": "stream",
          "text": [
            "/usr/local/lib/python3.7/dist-packages/skimage/color/colorconv.py:1068: UserWarning: Color data out of range: Z < 0 in 50 pixels\n",
            "  return xyz2rgb(lab2xyz(lab, illuminant, observer))\n",
            "/usr/local/lib/python3.7/dist-packages/skimage/color/colorconv.py:1068: UserWarning: Color data out of range: Z < 0 in 71 pixels\n",
            "  return xyz2rgb(lab2xyz(lab, illuminant, observer))\n"
          ],
          "name": "stderr"
        },
        {
          "output_type": "stream",
          "text": [
            "5885\n",
            "5886\n",
            "5887\n",
            "5888\n",
            "5889\n",
            "5890\n",
            "5891\n",
            "5892\n",
            "5893\n",
            "5894\n",
            "5895\n",
            "5896\n",
            "5897\n",
            "5898\n",
            "5899\n",
            "5900\n"
          ],
          "name": "stdout"
        },
        {
          "output_type": "stream",
          "text": [
            "/usr/local/lib/python3.7/dist-packages/skimage/color/colorconv.py:1068: UserWarning: Color data out of range: Z < 0 in 104 pixels\n",
            "  return xyz2rgb(lab2xyz(lab, illuminant, observer))\n"
          ],
          "name": "stderr"
        },
        {
          "output_type": "stream",
          "text": [
            "5901\n",
            "5902\n",
            "5903\n",
            "5904\n",
            "5905\n",
            "5906\n",
            "5907\n",
            "5908\n",
            "5909\n",
            "5910\n",
            "5911\n",
            "5912\n",
            "5913\n",
            "5914\n",
            "5915\n",
            "5916\n",
            "5917\n",
            "5918\n",
            "5919\n",
            "5920\n"
          ],
          "name": "stdout"
        },
        {
          "output_type": "stream",
          "text": [
            "/usr/local/lib/python3.7/dist-packages/skimage/color/colorconv.py:1068: UserWarning: Color data out of range: Z < 0 in 20 pixels\n",
            "  return xyz2rgb(lab2xyz(lab, illuminant, observer))\n"
          ],
          "name": "stderr"
        },
        {
          "output_type": "stream",
          "text": [
            "5921\n",
            "5922\n",
            "5923\n",
            "5924\n",
            "5925\n",
            "5926\n",
            "5927\n",
            "5928\n",
            "5929\n",
            "5930\n",
            "5931\n",
            "5932\n",
            "5933\n",
            "5934\n",
            "5935\n",
            "5936\n",
            "5937\n",
            "5938\n",
            "5939\n",
            "5940\n",
            "5941\n",
            "5942\n",
            "5943\n",
            "5944\n",
            "5945\n",
            "5946\n",
            "5947\n",
            "5948\n",
            "5949\n",
            "5950\n",
            "5951\n",
            "5952\n",
            "5953\n",
            "5954\n",
            "5955\n",
            "5956\n",
            "5957\n",
            "5958\n",
            "5959\n",
            "5960\n",
            "5961\n",
            "5962\n",
            "5963\n",
            "5964\n",
            "5965\n",
            "5966\n",
            "5967\n",
            "5968\n",
            "5969\n",
            "5970\n",
            "5971\n",
            "5972\n",
            "5973\n",
            "5974\n",
            "5975\n",
            "5976\n",
            "5977\n",
            "5978\n",
            "5979\n",
            "5980\n",
            "5981\n",
            "5982\n",
            "5983\n",
            "5984\n",
            "5985\n",
            "5986\n",
            "5987\n",
            "5988\n"
          ],
          "name": "stdout"
        },
        {
          "output_type": "stream",
          "text": [
            "/usr/local/lib/python3.7/dist-packages/skimage/color/colorconv.py:1068: UserWarning: Color data out of range: Z < 0 in 51 pixels\n",
            "  return xyz2rgb(lab2xyz(lab, illuminant, observer))\n"
          ],
          "name": "stderr"
        },
        {
          "output_type": "stream",
          "text": [
            "5989\n",
            "5990\n",
            "5991\n",
            "5992\n",
            "5993\n",
            "5994\n",
            "5995\n",
            "5996\n",
            "5997\n",
            "5998\n",
            "5999\n",
            "6000\n",
            "0.9032888626089765 26.12301752596126\n"
          ],
          "name": "stdout"
        }
      ]
    }
  ]
}